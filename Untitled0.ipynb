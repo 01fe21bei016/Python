{
  "nbformat": 4,
  "nbformat_minor": 0,
  "metadata": {
    "colab": {
      "provenance": [],
      "authorship_tag": "ABX9TyO+ViUxiqbHA27YEXm1PCmE",
      "include_colab_link": true
    },
    "kernelspec": {
      "name": "python3",
      "display_name": "Python 3"
    },
    "language_info": {
      "name": "python"
    }
  },
  "cells": [
    {
      "cell_type": "markdown",
      "metadata": {
        "id": "view-in-github",
        "colab_type": "text"
      },
      "source": [
        "<a href=\"https://colab.research.google.com/github/01fe21bei016/Python/blob/main/Untitled0.ipynb\" target=\"_parent\"><img src=\"https://colab.research.google.com/assets/colab-badge.svg\" alt=\"Open In Colab\"/></a>"
      ]
    },
    {
      "cell_type": "code",
      "execution_count": null,
      "metadata": {
        "id": "kTb0YKUXE6Q6",
        "colab": {
          "base_uri": "https://localhost:8080/"
        },
        "outputId": "19cca566-f3cf-4c33-904a-71d6678ad6a4"
      },
      "outputs": [
        {
          "output_type": "stream",
          "name": "stdout",
          "text": [
            "Aishwaryaaa\n"
          ]
        }
      ],
      "source": [
        "print(\"Aishwaryaaa\")"
      ]
    },
    {
      "cell_type": "code",
      "source": [],
      "metadata": {
        "id": "FePstYlenSVL"
      },
      "execution_count": null,
      "outputs": []
    },
    {
      "cell_type": "code",
      "source": [
        "set1={'Aish','b','k'}\n",
        "print(set1)\n",
        "set1={'Aish','b','k',\"k\"}\n",
        "print(set1)"
      ],
      "metadata": {
        "colab": {
          "base_uri": "https://localhost:8080/"
        },
        "id": "leZYkXrbW5y_",
        "outputId": "7a3148ee-29fe-4191-aed8-4c01ca04514b"
      },
      "execution_count": null,
      "outputs": [
        {
          "output_type": "stream",
          "name": "stdout",
          "text": [
            "{'b', 'Aish', 'k'}\n",
            "{'b', 'Aish', 'k'}\n"
          ]
        }
      ]
    },
    {
      "cell_type": "code",
      "source": [
        "set1.add('newnmae')\n",
        "print(set1)\n",
        "set2={'sounds','beauty'}\n",
        "set1.update(set2)\n",
        "print(set1)"
      ],
      "metadata": {
        "colab": {
          "base_uri": "https://localhost:8080/"
        },
        "id": "69sBiR-6Xc9r",
        "outputId": "5bc36245-a641-4687-85ee-8fcdd96a24e8"
      },
      "execution_count": null,
      "outputs": [
        {
          "output_type": "stream",
          "name": "stdout",
          "text": [
            "{'b', 'Aish', 'newnmae', 'k'}\n",
            "{'Aish', 'beauty', 'k', 'newnmae', 'sounds', 'b'}\n"
          ]
        }
      ]
    },
    {
      "cell_type": "code",
      "source": [
        "dict1={\"name\":\"Aishwarya\",\n",
        "       \"Standard\":\"degree\",\n",
        "       \"year\":\"3rd\"}\n",
        "print(dict1)\n",
        "print(type(dict1))"
      ],
      "metadata": {
        "colab": {
          "base_uri": "https://localhost:8080/"
        },
        "id": "TUhPnilZYdJm",
        "outputId": "d15653b8-c5b2-4b93-e84b-48c48dc6f4e6"
      },
      "execution_count": null,
      "outputs": [
        {
          "output_type": "stream",
          "name": "stdout",
          "text": [
            "{'name': 'Aishwarya', 'Standard': 'degree', 'year': '3rd'}\n",
            "<class 'dict'>\n"
          ]
        }
      ]
    },
    {
      "cell_type": "code",
      "source": [
        "dict2=dict(animal=\"Tiger\")\n",
        "print(dict2)"
      ],
      "metadata": {
        "colab": {
          "base_uri": "https://localhost:8080/"
        },
        "id": "AzE8eNuNZVdl",
        "outputId": "11d7a6de-ec1f-412d-e3c3-ea1f67fbaf36"
      },
      "execution_count": null,
      "outputs": [
        {
          "output_type": "stream",
          "name": "stdout",
          "text": [
            "{'animal': 'Tiger'}\n"
          ]
        }
      ]
    },
    {
      "cell_type": "code",
      "source": [],
      "metadata": {
        "id": "ImO9OazRaYzD"
      },
      "execution_count": null,
      "outputs": []
    },
    {
      "cell_type": "code",
      "source": [
        "print('svip')"
      ],
      "metadata": {
        "colab": {
          "base_uri": "https://localhost:8080/"
        },
        "id": "ub0AbRqr6RxB",
        "outputId": "a3b92b8a-bfb5-4945-e9db-eba0a89a9da2"
      },
      "execution_count": null,
      "outputs": [
        {
          "output_type": "stream",
          "name": "stdout",
          "text": [
            "svip\n"
          ]
        }
      ]
    },
    {
      "cell_type": "code",
      "source": [
        "x=10\n",
        "y=5\n",
        "mul=x*y\n",
        "print(mul)"
      ],
      "metadata": {
        "colab": {
          "base_uri": "https://localhost:8080/"
        },
        "id": "L5ScrcC16Y0n",
        "outputId": "ebe879e8-cadb-4115-ec06-dda1364d8354"
      },
      "execution_count": null,
      "outputs": [
        {
          "output_type": "stream",
          "name": "stdout",
          "text": [
            "50\n"
          ]
        }
      ]
    },
    {
      "cell_type": "code",
      "source": [
        "a=5\n",
        "square=a**3\n",
        "print(square)"
      ],
      "metadata": {
        "colab": {
          "base_uri": "https://localhost:8080/"
        },
        "id": "4tA0sFnR7mM6",
        "outputId": "51057963-cf5d-48ca-94fc-4daf49c321d0"
      },
      "execution_count": null,
      "outputs": [
        {
          "output_type": "stream",
          "name": "stdout",
          "text": [
            "125\n"
          ]
        }
      ]
    },
    {
      "cell_type": "code",
      "source": [
        "import math\n",
        "a=10\n",
        "root=math.sqrt(a)\n",
        "print(root)"
      ],
      "metadata": {
        "colab": {
          "base_uri": "https://localhost:8080/"
        },
        "id": "DnGhZtQG75Nu",
        "outputId": "8ed675a0-e198-41ee-890f-b2254051129f"
      },
      "execution_count": null,
      "outputs": [
        {
          "output_type": "stream",
          "name": "stdout",
          "text": [
            "3.1622776601683795\n"
          ]
        }
      ]
    },
    {
      "cell_type": "code",
      "source": [
        "name=\"Aish\"\n",
        "print(type(name))"
      ],
      "metadata": {
        "colab": {
          "base_uri": "https://localhost:8080/"
        },
        "id": "2xD98GQv9CLC",
        "outputId": "4084496a-2b11-4ad7-be32-8c13a1eb33f9"
      },
      "execution_count": null,
      "outputs": [
        {
          "output_type": "stream",
          "name": "stdout",
          "text": [
            "<class 'str'>\n"
          ]
        }
      ]
    },
    {
      "cell_type": "code",
      "source": [
        "num=10\n",
        "print(type(num))"
      ],
      "metadata": {
        "colab": {
          "base_uri": "https://localhost:8080/"
        },
        "id": "HA9y6sij9OwL",
        "outputId": "98c7b815-e575-4e9e-8bb9-691802932ff1"
      },
      "execution_count": null,
      "outputs": [
        {
          "output_type": "stream",
          "name": "stdout",
          "text": [
            "<class 'int'>\n"
          ]
        }
      ]
    },
    {
      "cell_type": "code",
      "source": [
        "lis=['aish','b','k']\n",
        "type(lis)\n",
        "print(lis)\n"
      ],
      "metadata": {
        "colab": {
          "base_uri": "https://localhost:8080/"
        },
        "id": "eFyQooLg-Qre",
        "outputId": "c934819c-a4a7-44a0-e699-477424299ecb"
      },
      "execution_count": null,
      "outputs": [
        {
          "output_type": "stream",
          "name": "stdout",
          "text": [
            "['aish', 'b', 'k']\n"
          ]
        }
      ]
    },
    {
      "cell_type": "code",
      "source": [
        "lis2=['prats','p','h']\n",
        "print(len(lis))\n",
        "print(len(lis2))\n",
        "lis3=lis+lis2\n",
        "print(lis3)"
      ],
      "metadata": {
        "colab": {
          "base_uri": "https://localhost:8080/"
        },
        "id": "9m2PHv9p-wP1",
        "outputId": "c65c620c-2fb8-44fa-ddfb-207e702cf219"
      },
      "execution_count": null,
      "outputs": [
        {
          "output_type": "stream",
          "name": "stdout",
          "text": [
            "3\n",
            "3\n",
            "['aish', 'b', 'k', 'prats', 'p', 'h']\n"
          ]
        }
      ]
    },
    {
      "cell_type": "code",
      "source": [
        "lis2.append(\"Hubli\")\n",
        "print(lis2)"
      ],
      "metadata": {
        "colab": {
          "base_uri": "https://localhost:8080/"
        },
        "id": "TvXJzMHiAWj5",
        "outputId": "a6e7910c-5965-4eb5-b397-5a5413c1599e"
      },
      "execution_count": null,
      "outputs": [
        {
          "output_type": "stream",
          "name": "stdout",
          "text": [
            "['prats', 'p', 'h', 'Hubli', 'Hubli']\n"
          ]
        }
      ]
    },
    {
      "cell_type": "code",
      "source": [
        "lis2.clear()\n",
        "print(lis2)"
      ],
      "metadata": {
        "colab": {
          "base_uri": "https://localhost:8080/"
        },
        "id": "c9WZ2xS1AjPk",
        "outputId": "4e624446-57d8-4077-8d43-8ed87d541121"
      },
      "execution_count": null,
      "outputs": [
        {
          "output_type": "stream",
          "name": "stdout",
          "text": [
            "[]\n"
          ]
        }
      ]
    },
    {
      "cell_type": "code",
      "source": [
        "print(lis3)"
      ],
      "metadata": {
        "colab": {
          "base_uri": "https://localhost:8080/"
        },
        "id": "seApyEBpBSl2",
        "outputId": "8578c8b3-1be7-4ccf-8b68-1b1b3709133b"
      },
      "execution_count": null,
      "outputs": [
        {
          "output_type": "stream",
          "name": "stdout",
          "text": [
            "['aish', 'b', 'k', 'prats', 'p', 'h']\n"
          ]
        }
      ]
    },
    {
      "cell_type": "code",
      "source": [
        "lis[0]"
      ],
      "metadata": {
        "colab": {
          "base_uri": "https://localhost:8080/",
          "height": 36
        },
        "id": "1msCmdIxBWDX",
        "outputId": "786daa3f-dbfa-4e92-afcb-a4f37db8f6e2"
      },
      "execution_count": null,
      "outputs": [
        {
          "output_type": "execute_result",
          "data": {
            "text/plain": [
              "'aish'"
            ],
            "application/vnd.google.colaboratory.intrinsic+json": {
              "type": "string"
            }
          },
          "metadata": {},
          "execution_count": 31
        }
      ]
    },
    {
      "cell_type": "code",
      "source": [
        "lis3.sort()\n",
        "print(lis3)"
      ],
      "metadata": {
        "colab": {
          "base_uri": "https://localhost:8080/"
        },
        "id": "FXOVxL1qBZou",
        "outputId": "096bce80-fd26-4669-a75a-096534ce1f03"
      },
      "execution_count": null,
      "outputs": [
        {
          "output_type": "stream",
          "name": "stdout",
          "text": [
            "['aish', 'b', 'h', 'k', 'p', 'prats']\n"
          ]
        }
      ]
    },
    {
      "cell_type": "code",
      "source": [
        "x=9\n",
        "y=10\n",
        "sum=x+y\n",
        "print(sum)"
      ],
      "metadata": {
        "colab": {
          "base_uri": "https://localhost:8080/"
        },
        "id": "Wqi1yUmjFI4R",
        "outputId": "7d7c34d7-61dc-46b0-f8fb-6229149f6b33"
      },
      "execution_count": null,
      "outputs": [
        {
          "output_type": "stream",
          "name": "stdout",
          "text": [
            "19\n"
          ]
        }
      ]
    },
    {
      "cell_type": "code",
      "source": [
        "#IF ELSE\n",
        "a=input(\"Enter the value of a\")\n",
        "b=input(\"Enter the value of b\")\n",
        "if a>b:\n",
        "  print(\"a is greater than b\")\n",
        "else:\n",
        " print('a is less than b')"
      ],
      "metadata": {
        "id": "U_a4w0ZzFSyt",
        "colab": {
          "base_uri": "https://localhost:8080/"
        },
        "outputId": "5b709922-4df0-4972-c1db-f4cb48caf7dd"
      },
      "execution_count": null,
      "outputs": [
        {
          "output_type": "stream",
          "name": "stdout",
          "text": [
            "Enter the value of a1\n",
            "Enter the value of b2\n",
            "a is less than b\n"
          ]
        }
      ]
    },
    {
      "cell_type": "code",
      "source": [
        "p=int(input(\"enter y\"))\n",
        "q=int(input(\"Enter z\"))\n",
        "sum=p+q\n",
        "print(sum)"
      ],
      "metadata": {
        "colab": {
          "base_uri": "https://localhost:8080/"
        },
        "id": "3ixcM0rRbxjK",
        "outputId": "d30094a2-8ac6-47d5-9a8e-98a13ffe7448"
      },
      "execution_count": null,
      "outputs": [
        {
          "output_type": "stream",
          "name": "stdout",
          "text": [
            "enter y1\n",
            "Enter z2\n",
            "3\n"
          ]
        }
      ]
    },
    {
      "cell_type": "code",
      "source": [
        "w=input(\"Entr w\")\n",
        "y=input(\"Enter y\")\n",
        "if w>y:\n",
        "  sum=w+y\n",
        "  print(sum)"
      ],
      "metadata": {
        "colab": {
          "base_uri": "https://localhost:8080/"
        },
        "id": "7Fjx7PqMydFI",
        "outputId": "f36a23ca-167e-4474-d32a-aa11ab69ff3b"
      },
      "execution_count": null,
      "outputs": [
        {
          "output_type": "stream",
          "name": "stdout",
          "text": [
            "Entr w5\n",
            "Enter y2\n",
            "52\n"
          ]
        }
      ]
    },
    {
      "cell_type": "code",
      "source": [
        "ball1=\"green\"\n",
        "ball2=\"red\"\n",
        "ball3='blue'\n",
        "picked_ball=input(\"enter picked ball\")\n",
        "\n",
        "if picked_ball==ball1:\n",
        "  print(\"green\")\n",
        "elif picked_ball==ball2:\n",
        "   print(\"red\")\n",
        "else:\n",
        "  print(\"blue\")"
      ],
      "metadata": {
        "colab": {
          "base_uri": "https://localhost:8080/"
        },
        "id": "NsPHrInadEoF",
        "outputId": "e3ea0a39-d1fa-4c6e-db18-d25bbb93c6f1"
      },
      "execution_count": null,
      "outputs": [
        {
          "output_type": "stream",
          "name": "stdout",
          "text": [
            "enter picked ballred\n",
            "red\n"
          ]
        }
      ]
    },
    {
      "cell_type": "code",
      "source": [
        "print(1 & 0)\n",
        "print(0x1 & 0x0)"
      ],
      "metadata": {
        "colab": {
          "base_uri": "https://localhost:8080/"
        },
        "id": "jEu8ZOBEiXX3",
        "outputId": "0e205668-e773-45a4-c1b1-1fe70a688759"
      },
      "execution_count": null,
      "outputs": [
        {
          "output_type": "stream",
          "name": "stdout",
          "text": [
            "0\n",
            "0\n"
          ]
        }
      ]
    },
    {
      "cell_type": "code",
      "source": [
        "#count number of times element is occured\n",
        "tuple1=(\"CS\",'EC',\"ECII\",\"ECII\",\"EC\",'ECII')\n",
        "print(type(tuple1))\n",
        "print(tuple1)\n",
        "z=tuple1.count('ECII')\n",
        "print(z)\n",
        "y=tuple1.count('EC')\n",
        "print(y)"
      ],
      "metadata": {
        "colab": {
          "base_uri": "https://localhost:8080/"
        },
        "id": "fnbHAGRbnUZe",
        "outputId": "960ee930-80de-40e7-a000-951bc92c6174"
      },
      "execution_count": null,
      "outputs": [
        {
          "output_type": "stream",
          "name": "stdout",
          "text": [
            "<class 'tuple'>\n",
            "('CS', 'EC', 'ECII', 'ECII', 'EC', 'ECII')\n",
            "3\n",
            "2\n"
          ]
        }
      ]
    },
    {
      "cell_type": "code",
      "source": [
        "#To find duplicates of eleemnt if elemnt occured more twice in an array print true else false\n",
        "tuple2=('1','2','3','4','5','1','2','3','1','2','3','4','6')\n",
        "#tuple2=(1,2,3 ,4,5)\n",
        "print(type(tuple2))\n",
        "v=tuple2.count('1')\n",
        "w=tuple2.count('2')\n",
        "x=tuple2.count('3')\n",
        "y=tuple2.count('4')\n",
        "z=tuple2.count('5')\n",
        "print(v)\n",
        "print(w)\n",
        "print(x)\n",
        "print(y)\n",
        "print(z)\n",
        "if  v>2 or w>2 or x>2 or y>2 or z>2:\n",
        " print(\"TRUE\")\n",
        "elif v==1 and w==1 and x==1 and y==1 and z==1:\n",
        "  print(\"FALSE\")\n",
        "else :\n",
        "  print(\"NONE\")\n",
        "#print(v>2 or w>2 or x>2 or y>2 or z>2)\n",
        "\n",
        "\n",
        "\n"
      ],
      "metadata": {
        "colab": {
          "base_uri": "https://localhost:8080/"
        },
        "id": "O6xs12xPovQR",
        "outputId": "d229d6da-42f9-47a5-da19-75447809c264"
      },
      "execution_count": null,
      "outputs": [
        {
          "output_type": "stream",
          "name": "stdout",
          "text": [
            "<class 'tuple'>\n",
            "3\n",
            "3\n",
            "3\n",
            "2\n",
            "1\n",
            "TRUE\n"
          ]
        }
      ]
    },
    {
      "cell_type": "code",
      "source": [
        "#write a program to reverse content of array\n",
        "list1=[\"aish\",\"k\",\"b\"]\n",
        "list.reverse(list1)\n",
        "print(list1)"
      ],
      "metadata": {
        "colab": {
          "base_uri": "https://localhost:8080/"
        },
        "id": "lyKGJG7QtcaV",
        "outputId": "2482122a-b34f-4c99-aa08-21efd8e61762"
      },
      "execution_count": null,
      "outputs": [
        {
          "output_type": "stream",
          "name": "stdout",
          "text": [
            "['b', 'k', 'aish']\n"
          ]
        }
      ]
    },
    {
      "cell_type": "code",
      "source": [
        "#Program to check equality of two strings\n",
        "list1=[\"aish\",\"k\",\"b\"]\n",
        "list2=[\"aish\",\"k\",\"x\"]\n",
        "print(list1[0]==list2[0] and list1[1]==list2[1] and list1[2]==list2[2])"
      ],
      "metadata": {
        "colab": {
          "base_uri": "https://localhost:8080/"
        },
        "id": "l1xURePLuCIe",
        "outputId": "e86c81bd-268a-460d-bfd6-997f6414fab1"
      },
      "execution_count": null,
      "outputs": [
        {
          "output_type": "stream",
          "name": "stdout",
          "text": [
            "False\n"
          ]
        }
      ]
    },
    {
      "cell_type": "code",
      "source": [
        "#write a program to get the current memory address and length in the elements of buffer used to hold an arrays contents. Also find the size of the memory buffer in bytes.\n",
        "list4=[1,2,3,4,5]\n",
        "print(list4.index(2))\n",
        "print(len(list4))\n",
        "print(id(list4))\n",
        "import numpy as np\n",
        "list4=np.array(list4)\n",
        "print(\"bytes=\",list4.size*list4.itemsize)"
      ],
      "metadata": {
        "colab": {
          "base_uri": "https://localhost:8080/"
        },
        "id": "XHGBBdLXvK0u",
        "outputId": "c56da492-f788-4f80-82e6-ad8128f013ae"
      },
      "execution_count": null,
      "outputs": [
        {
          "output_type": "stream",
          "name": "stdout",
          "text": [
            "1\n",
            "5\n",
            "135910631853568\n",
            "bytes= 40\n"
          ]
        }
      ]
    },
    {
      "cell_type": "code",
      "source": [
        "#Program to check equality of two strings\n",
        "list1=[\"aish\",\"k\",\"b\"]\n",
        "list2=[\"aish\",\"k\",\"b\"]\n",
        "if list1[0]==list2[0] and list1[1]==list2[1] and list1[2]==list2[2]:\n",
        "  print(\"EQUALL\")\n",
        "else :\n",
        "  print(\"NOT EQUAL\")"
      ],
      "metadata": {
        "colab": {
          "base_uri": "https://localhost:8080/"
        },
        "id": "k7T7SNfDvgxH",
        "outputId": "1c1248e6-d110-4abe-e977-99097fa67d03"
      },
      "execution_count": null,
      "outputs": [
        {
          "output_type": "stream",
          "name": "stdout",
          "text": [
            "EQUALL\n"
          ]
        }
      ]
    },
    {
      "cell_type": "code",
      "source": [],
      "metadata": {
        "id": "eUrIUe8K1_Jt"
      },
      "execution_count": null,
      "outputs": []
    }
  ]
}