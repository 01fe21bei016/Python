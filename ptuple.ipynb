{
  "nbformat": 4,
  "nbformat_minor": 0,
  "metadata": {
    "colab": {
      "provenance": [],
      "authorship_tag": "ABX9TyNNfkRxJAXNp/rV+uaQCaZ3",
      "include_colab_link": true
    },
    "kernelspec": {
      "name": "python3",
      "display_name": "Python 3"
    },
    "language_info": {
      "name": "python"
    }
  },
  "cells": [
    {
      "cell_type": "markdown",
      "metadata": {
        "id": "view-in-github",
        "colab_type": "text"
      },
      "source": [
        "<a href=\"https://colab.research.google.com/github/01fe21bei016/Python/blob/main/ptuple.ipynb\" target=\"_parent\"><img src=\"https://colab.research.google.com/assets/colab-badge.svg\" alt=\"Open In Colab\"/></a>"
      ]
    },
    {
      "cell_type": "code",
      "execution_count": null,
      "metadata": {
        "colab": {
          "base_uri": "https://localhost:8080/"
        },
        "id": "m3DEks_P3SNa",
        "outputId": "2ebbfe9b-3176-493c-89dc-b0393efbc094"
      },
      "outputs": [
        {
          "output_type": "stream",
          "name": "stdout",
          "text": [
            "<class 'tuple'>\n",
            "('HUBLI', 'belgujm', 'HUBLI')\n",
            "<class 'tuple'>\n"
          ]
        }
      ],
      "source": [
        "tuple1=(\"HUBLI\",\"belgujm\",\"HUBLI\")\n",
        "print(type(tuple1))\n",
        "print(tuple1)\n",
        "tuple2=(\"AISH\",)\n",
        "print(type(tuple2))"
      ]
    },
    {
      "cell_type": "code",
      "source": [
        "tuple1=(\"HUBLI\",\"belgujm\",\"HUBLI\")\n",
        "tuple2=(\"AISH\",)\n",
        "print(tuple1[0])\n",
        "print(tuple1[-1])\n",
        "print(tuple1[-2])\n",
        "tuple3=tuple1+tuple2\n",
        "print(tuple3)\n",
        "y=tuple3.index('AISH')\n",
        "print(y)\n",
        "\n"
      ],
      "metadata": {
        "colab": {
          "base_uri": "https://localhost:8080/"
        },
        "id": "uLluWM4YKFWP",
        "outputId": "104abe0d-1f2f-465e-bcb5-bd4cd987b062"
      },
      "execution_count": null,
      "outputs": [
        {
          "output_type": "stream",
          "name": "stdout",
          "text": [
            "HUBLI\n",
            "HUBLI\n",
            "belgujm\n",
            "('HUBLI', 'belgujm', 'HUBLI', 'AISH')\n",
            "3\n"
          ]
        }
      ]
    },
    {
      "cell_type": "code",
      "source": [
        "print(10>>1)\n",
        "print(10>>2)\n",
        "print(8<<1)"
      ],
      "metadata": {
        "colab": {
          "base_uri": "https://localhost:8080/"
        },
        "id": "1u4n1aXIM0lO",
        "outputId": "a637ac10-8991-4122-a758-101c3a39fb0b"
      },
      "execution_count": null,
      "outputs": [
        {
          "output_type": "stream",
          "name": "stdout",
          "text": [
            "5\n",
            "2\n",
            "16\n"
          ]
        }
      ]
    },
    {
      "cell_type": "code",
      "source": [
        "a=8\n",
        "print(a)\n",
        "a+=4\n",
        "print(a)"
      ],
      "metadata": {
        "colab": {
          "base_uri": "https://localhost:8080/"
        },
        "id": "moVEw4f0NWbR",
        "outputId": "4f045d17-233a-4d3d-fd6b-de24ee00a207"
      },
      "execution_count": null,
      "outputs": [
        {
          "output_type": "stream",
          "name": "stdout",
          "text": [
            "8\n",
            "12\n"
          ]
        }
      ]
    },
    {
      "cell_type": "code",
      "source": [
        "x=[\"hubli\",\"belgum\"]\n",
        "y=[\"hubli\",\"belgum\"]\n",
        "z=x\n",
        "print(x is z)\n",
        "print(z is x)\n",
        "print(z is not x)\n",
        "print(\"Aish\" in y)\n",
        "print(\"belgum\" in y)\n"
      ],
      "metadata": {
        "colab": {
          "base_uri": "https://localhost:8080/"
        },
        "id": "JQep_PryO7-Z",
        "outputId": "f0121a92-b762-4420-84be-2b08fa67e6af"
      },
      "execution_count": null,
      "outputs": [
        {
          "output_type": "stream",
          "name": "stdout",
          "text": [
            "True\n",
            "True\n",
            "False\n",
            "False\n",
            "True\n"
          ]
        }
      ]
    },
    {
      "cell_type": "code",
      "source": [
        "num=int(input(\"Enetr number\"))\n",
        "while num<=9:\n",
        "  print(\"Number is single digit\")\n",
        "  break\n",
        "while num>9 and num<=99:\n",
        "  print(\"NUMBer is double digit\")\n",
        "  break\n",
        "else:\n",
        "  print(\"NUMBER  is more than 2 digit\")\n"
      ],
      "metadata": {
        "colab": {
          "base_uri": "https://localhost:8080/"
        },
        "id": "MObaZ-jvQTpv",
        "outputId": "40d7f301-521f-4489-8146-ea1863ee0c7e"
      },
      "execution_count": null,
      "outputs": [
        {
          "output_type": "stream",
          "name": "stdout",
          "text": [
            "Enetr number100\n",
            "NUMBER  is more than 2 digit\n"
          ]
        }
      ]
    },
    {
      "cell_type": "code",
      "source": [
        "for x in range(5):\n",
        "  print(x)\n",
        "for z in range(1,5):\n",
        "  print(z)\n",
        "for y in range(1,10,2):\n",
        " print(y)\n"
      ],
      "metadata": {
        "colab": {
          "base_uri": "https://localhost:8080/"
        },
        "id": "iU0zITfIS0_k",
        "outputId": "78dead81-2f41-4f90-cf24-02581f2d8a08"
      },
      "execution_count": null,
      "outputs": [
        {
          "output_type": "stream",
          "name": "stdout",
          "text": [
            "0\n",
            "1\n",
            "2\n",
            "3\n",
            "4\n",
            "1\n",
            "2\n",
            "3\n",
            "4\n",
            "1\n",
            "3\n",
            "5\n",
            "7\n",
            "9\n"
          ]
        }
      ]
    },
    {
      "cell_type": "code",
      "source": [
        "names=[\"AISH\",\"RIYA\",\"NETRA\",\"SAHANA\"]\n",
        "for x in names:\n",
        " print(x)\n",
        " if x==\"AISh\":\n",
        "  print(\"FOUND\")\n",
        "  break\n",
        "else:\n",
        "    print(\"NOT FOUND\")\n"
      ],
      "metadata": {
        "colab": {
          "base_uri": "https://localhost:8080/"
        },
        "id": "Q_hv6fHYUNVr",
        "outputId": "2c7269d0-8aab-4e98-9dad-4e0c72f7bdad"
      },
      "execution_count": null,
      "outputs": [
        {
          "output_type": "stream",
          "name": "stdout",
          "text": [
            "AISH\n",
            "RIYA\n",
            "NETRA\n",
            "SAHANA\n",
            "NOT FOUND\n"
          ]
        }
      ]
    },
    {
      "cell_type": "code",
      "source": [
        "def cake_baker():\n",
        "  print(\"I M READY TO BAKE\")\n",
        "cake_baker()"
      ],
      "metadata": {
        "colab": {
          "base_uri": "https://localhost:8080/"
        },
        "id": "_GmFyNQlWbiB",
        "outputId": "1be67f4d-44cc-4eb0-de5f-88a89a143347"
      },
      "execution_count": null,
      "outputs": [
        {
          "output_type": "stream",
          "name": "stdout",
          "text": [
            "I M READY TO BAKE\n"
          ]
        }
      ]
    },
    {
      "cell_type": "code",
      "source": [
        "def cake_baker(n,f,w):\n",
        " print(\"NUMBER OF CAKES=\",n)\n",
        " print(\"FLVOUR OF CAKES=\",f)\n",
        " print(\"WEIGHT OF CAKE=\",w)\n",
        "cake_baker(\"200\",\"chocolate\",\"300kg\")\n",
        "cake_baker(\"100\",\"VANILLA\",\"500kg\")"
      ],
      "metadata": {
        "colab": {
          "base_uri": "https://localhost:8080/"
        },
        "id": "muDLE7twWlnV",
        "outputId": "ed7904b3-438f-49de-9fa6-5bad2beb5487"
      },
      "execution_count": null,
      "outputs": [
        {
          "output_type": "stream",
          "name": "stdout",
          "text": [
            "NUMBER OF CAKES= 200\n",
            "FLVOUR OF CAKES= chocolate\n",
            "WEIGHT OF CAKE= 300kg\n",
            "NUMBER OF CAKES= 100\n",
            "FLVOUR OF CAKES= VANILLA\n",
            "WEIGHT OF CAKE= 500kg\n"
          ]
        }
      ]
    },
    {
      "cell_type": "code",
      "source": [
        "#GAME!\n",
        "import random\n",
        "x=random.randint(1,9)\n",
        "user_input=int(input(\"ENTER NUMBER BETWEEN 1 AND 9\"))\n",
        "print(x)\n",
        "print(user_input)\n",
        "if x>user_input:\n",
        "  print(\"COMPUTER WON\")\n",
        "elif x==user_input:\n",
        "  print(\"TIE\")\n",
        "else:\n",
        "  print(\"I WON\")"
      ],
      "metadata": {
        "colab": {
          "base_uri": "https://localhost:8080/"
        },
        "id": "UVmQvbC3avB5",
        "outputId": "4d3f4b6e-7428-49f0-d5df-da8395467430"
      },
      "execution_count": null,
      "outputs": [
        {
          "output_type": "stream",
          "name": "stdout",
          "text": [
            "ENTER NUMBER BETWEEN 1 AND 99\n",
            "9\n",
            "9\n",
            "TIE\n"
          ]
        }
      ]
    },
    {
      "cell_type": "code",
      "source": [
        "#args\n",
        "def add_num(*args):\n",
        "  sum=0\n",
        "  for i in args:\n",
        "    sum+=i\n",
        "    return\n",
        "#add_num(1,2)\n",
        "print(add_num(1,2))"
      ],
      "metadata": {
        "id": "u7e7x8PHUqtV",
        "colab": {
          "base_uri": "https://localhost:8080/"
        },
        "outputId": "b3307fb9-c647-488a-bb3d-971c1610fd57"
      },
      "execution_count": 12,
      "outputs": [
        {
          "output_type": "stream",
          "name": "stdout",
          "text": [
            "None\n"
          ]
        }
      ]
    },
    {
      "cell_type": "code",
      "source": [
        "#kwargs\n",
        "def greet(**kwargs):\n",
        "  print(\"HELLO\")\n",
        "for key, value in kwargs.item():\n",
        " print(value)\n",
        "greet(name=\"AISH\",usn=\"01fe21bei016\",Branch=\"ECII\")"
      ],
      "metadata": {
        "colab": {
          "base_uri": "https://localhost:8080/",
          "height": 245
        },
        "id": "v3et-uxrMKHl",
        "outputId": "1032201b-398e-4314-8eea-4264adf6275d"
      },
      "execution_count": 27,
      "outputs": [
        {
          "output_type": "error",
          "ename": "NameError",
          "evalue": "ignored",
          "traceback": [
            "\u001b[0;31m---------------------------------------------------------------------------\u001b[0m",
            "\u001b[0;31mNameError\u001b[0m                                 Traceback (most recent call last)",
            "\u001b[0;32m<ipython-input-27-2f743b0b699c>\u001b[0m in \u001b[0;36m<cell line: 4>\u001b[0;34m()\u001b[0m\n\u001b[1;32m      2\u001b[0m \u001b[0;32mdef\u001b[0m \u001b[0mgreet\u001b[0m\u001b[0;34m(\u001b[0m\u001b[0;34m**\u001b[0m\u001b[0mkwargs\u001b[0m\u001b[0;34m)\u001b[0m\u001b[0;34m:\u001b[0m\u001b[0;34m\u001b[0m\u001b[0;34m\u001b[0m\u001b[0m\n\u001b[1;32m      3\u001b[0m   \u001b[0mprint\u001b[0m\u001b[0;34m(\u001b[0m\u001b[0;34m\"HELLO\"\u001b[0m\u001b[0;34m)\u001b[0m\u001b[0;34m\u001b[0m\u001b[0;34m\u001b[0m\u001b[0m\n\u001b[0;32m----> 4\u001b[0;31m \u001b[0;32mfor\u001b[0m \u001b[0mkey\u001b[0m\u001b[0;34m,\u001b[0m \u001b[0mvalue\u001b[0m \u001b[0;32min\u001b[0m \u001b[0mkwargs\u001b[0m\u001b[0;34m.\u001b[0m\u001b[0mitem\u001b[0m\u001b[0;34m(\u001b[0m\u001b[0;34m)\u001b[0m\u001b[0;34m:\u001b[0m\u001b[0;34m\u001b[0m\u001b[0;34m\u001b[0m\u001b[0m\n\u001b[0m\u001b[1;32m      5\u001b[0m  \u001b[0mprint\u001b[0m\u001b[0;34m(\u001b[0m\u001b[0mvalue\u001b[0m\u001b[0;34m)\u001b[0m\u001b[0;34m\u001b[0m\u001b[0;34m\u001b[0m\u001b[0m\n\u001b[1;32m      6\u001b[0m \u001b[0mgreet\u001b[0m\u001b[0;34m(\u001b[0m\u001b[0mname\u001b[0m\u001b[0;34m=\u001b[0m\u001b[0;34m\"AISH\"\u001b[0m\u001b[0;34m,\u001b[0m\u001b[0musn\u001b[0m\u001b[0;34m=\u001b[0m\u001b[0;34m\"01fe21bei016\"\u001b[0m\u001b[0;34m,\u001b[0m\u001b[0mBranch\u001b[0m\u001b[0;34m=\u001b[0m\u001b[0;34m\"ECII\"\u001b[0m\u001b[0;34m)\u001b[0m\u001b[0;34m\u001b[0m\u001b[0;34m\u001b[0m\u001b[0m\n",
            "\u001b[0;31mNameError\u001b[0m: name 'kwargs' is not defined"
          ]
        }
      ]
    },
    {
      "cell_type": "code",
      "source": [
        "#GAME2 rock paper and siccorrs\n",
        "import random\n",
        "gamelist=[\"rock\",\"paper\",\"siccors\"]\n",
        "z=random.choice(gamelist)\n",
        "user=input(\"Enter rock paper or siccorrs\")\n",
        "print(z)\n",
        "print(user)\n",
        "if z==\"rock\" and user==\"rock\":\n",
        "  print(\"TIE\")\n",
        "elif z==\"rock\" and user==\"paper\":\n",
        "  print(\"computer won\")\n",
        "elif z==\"paper\" and user==\"paper\":\n",
        "   print(\"TIE\")\n",
        "elif z==\"siccors\" and user==\"siccors\":\n",
        "   print(\"TIE\")\n",
        "elif z==\"paper\" and user==\"siccorrs\":\n",
        "  print(\"I WON\")\n",
        "else:\n",
        "  print(\"TIE\")\n"
      ],
      "metadata": {
        "colab": {
          "base_uri": "https://localhost:8080/"
        },
        "id": "6BzDkdycLDFs",
        "outputId": "16b02ffa-2bf4-470c-c198-ddf31b09e36b"
      },
      "execution_count": 29,
      "outputs": [
        {
          "output_type": "stream",
          "name": "stdout",
          "text": [
            "Enter rock paper or siccorrsrock\n",
            "paper\n",
            "rock\n",
            "TIE\n"
          ]
        }
      ]
    },
    {
      "cell_type": "code",
      "source": [],
      "metadata": {
        "id": "AExzuK7CTKDb"
      },
      "execution_count": null,
      "outputs": []
    }
  ]
}