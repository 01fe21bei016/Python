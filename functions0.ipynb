{
  "nbformat": 4,
  "nbformat_minor": 0,
  "metadata": {
    "colab": {
      "provenance": [],
      "authorship_tag": "ABX9TyMQRt4jrBve/vbsu83AoiQZ",
      "include_colab_link": true
    },
    "kernelspec": {
      "name": "python3",
      "display_name": "Python 3"
    },
    "language_info": {
      "name": "python"
    }
  },
  "cells": [
    {
      "cell_type": "markdown",
      "metadata": {
        "id": "view-in-github",
        "colab_type": "text"
      },
      "source": [
        "<a href=\"https://colab.research.google.com/github/01fe21bei016/Python/blob/main/functions0.ipynb\" target=\"_parent\"><img src=\"https://colab.research.google.com/assets/colab-badge.svg\" alt=\"Open In Colab\"/></a>"
      ]
    },
    {
      "cell_type": "code",
      "execution_count": null,
      "metadata": {
        "colab": {
          "base_uri": "https://localhost:8080/"
        },
        "id": "Ffq2aLDd2JJg",
        "outputId": "aebdb64b-1495-46b9-efac-0021dfd00033"
      },
      "outputs": [
        {
          "output_type": "stream",
          "name": "stdout",
          "text": [
            "aish\n",
            "115\n"
          ]
        }
      ],
      "source": [
        "def name():\n",
        "  print(\"aish\")\n",
        "def roll_no():\n",
        "  print(\"115\")\n",
        "\n",
        "name()\n",
        "roll_no()"
      ]
    },
    {
      "cell_type": "code",
      "source": [
        "def fun(child3,child2,child1):\n",
        "  print(\"THE YOUNGEST CHILD IS \" + child3)\n",
        "fun(child1=\"AISH\",child2=\"SOUNDS\",child3=\"PABBI\")"
      ],
      "metadata": {
        "colab": {
          "base_uri": "https://localhost:8080/"
        },
        "id": "yk-p4UQF3Mfm",
        "outputId": "643dc487-e5b8-4b59-c5db-40256c403d9f"
      },
      "execution_count": null,
      "outputs": [
        {
          "output_type": "stream",
          "name": "stdout",
          "text": [
            "THE YOUNGEST CHILD IS PABBI\n"
          ]
        }
      ]
    },
    {
      "cell_type": "code",
      "source": [
        "def add(x, y):\n",
        "    return x + y\n",
        "def subtract(x, y):\n",
        "    return x - y\n",
        "def multiply(x, y):\n",
        "    return x * y\n",
        "def divide(x, y):\n",
        "    return x / y\n",
        "print(\"Select operation.\")\n",
        "print(\"1.Add\")\n",
        "print(\"2.Subtract\")\n",
        "print(\"3.Multiply\")\n",
        "print(\"4.Divide\")\n",
        "while True:\n",
        "    choice = input(\"Enter choice(1/2/3/4): \")\n",
        "    if choice in ('1', '2', '3', '4'):\n",
        "        try:\n",
        "            num1 = float(input(\"Enter first number: \"))\n",
        "            num2 = float(input(\"Enter second number: \"))\n",
        "        except ValueError:\n",
        "            print(\"Invalid input. Please enter a number.\")\n",
        "            continue\n",
        "\n",
        "        if choice == '1':\n",
        "            print(num1, \"+\", num2, \"=\", add(num1, num2))\n",
        "\n",
        "        elif choice == '2':\n",
        "            print(num1, \"-\", num2, \"=\", subtract(num1, num2))\n",
        "\n",
        "        elif choice == '3':\n",
        "            print(num1, \"*\", num2, \"=\", multiply(num1, num2))\n",
        "        elif choice =='4':\n",
        "            print(num1, \"/\", num2, \"=\", divide(num1, num2))\n",
        "        else :\n",
        "            print(\"invalid choice\")"
      ],
      "metadata": {
        "colab": {
          "base_uri": "https://localhost:8080/",
          "height": 754
        },
        "id": "9fOKhT3m37Zh",
        "outputId": "7f79cb02-a22d-426f-92d4-432959145f5e"
      },
      "execution_count": 82,
      "outputs": [
        {
          "output_type": "stream",
          "name": "stdout",
          "text": [
            "Select operation.\n",
            "1.Add\n",
            "2.Subtract\n",
            "3.Multiply\n",
            "4.Divide\n",
            "Enter choice(1/2/3/4): 2\n",
            "Enter first number: 90\n",
            "Enter second number: 100\n",
            "90.0 - 100.0 = -10.0\n",
            "Enter choice(1/2/3/4): 2\n",
            "Enter first number: 5\n",
            "Enter second number: f\n",
            "Invalid input. Please enter a number.\n",
            "Enter choice(1/2/3/4): 4\n",
            "Enter first number: 1\n",
            "Enter second number: 1\n",
            "1.0 / 1.0 = 1.0\n",
            "Enter choice(1/2/3/4): 3\n",
            "Enter first number: 10\n",
            "Enter second number: 40\n",
            "10.0 * 40.0 = 400.0\n"
          ]
        },
        {
          "output_type": "error",
          "ename": "KeyboardInterrupt",
          "evalue": "ignored",
          "traceback": [
            "\u001b[0;31m---------------------------------------------------------------------------\u001b[0m",
            "\u001b[0;31mKeyboardInterrupt\u001b[0m                         Traceback (most recent call last)",
            "\u001b[0;32m<ipython-input-82-57e0f303dce6>\u001b[0m in \u001b[0;36m<cell line: 14>\u001b[0;34m()\u001b[0m\n\u001b[1;32m     13\u001b[0m \u001b[0mprint\u001b[0m\u001b[0;34m(\u001b[0m\u001b[0;34m\"4.Divide\"\u001b[0m\u001b[0;34m)\u001b[0m\u001b[0;34m\u001b[0m\u001b[0;34m\u001b[0m\u001b[0m\n\u001b[1;32m     14\u001b[0m \u001b[0;32mwhile\u001b[0m \u001b[0;32mTrue\u001b[0m\u001b[0;34m:\u001b[0m\u001b[0;34m\u001b[0m\u001b[0;34m\u001b[0m\u001b[0m\n\u001b[0;32m---> 15\u001b[0;31m     \u001b[0mchoice\u001b[0m \u001b[0;34m=\u001b[0m \u001b[0minput\u001b[0m\u001b[0;34m(\u001b[0m\u001b[0;34m\"Enter choice(1/2/3/4): \"\u001b[0m\u001b[0;34m)\u001b[0m\u001b[0;34m\u001b[0m\u001b[0;34m\u001b[0m\u001b[0m\n\u001b[0m\u001b[1;32m     16\u001b[0m     \u001b[0;32mif\u001b[0m \u001b[0mchoice\u001b[0m \u001b[0;32min\u001b[0m \u001b[0;34m(\u001b[0m\u001b[0;34m'1'\u001b[0m\u001b[0;34m,\u001b[0m \u001b[0;34m'2'\u001b[0m\u001b[0;34m,\u001b[0m \u001b[0;34m'3'\u001b[0m\u001b[0;34m,\u001b[0m \u001b[0;34m'4'\u001b[0m\u001b[0;34m)\u001b[0m\u001b[0;34m:\u001b[0m\u001b[0;34m\u001b[0m\u001b[0;34m\u001b[0m\u001b[0m\n\u001b[1;32m     17\u001b[0m         \u001b[0;32mtry\u001b[0m\u001b[0;34m:\u001b[0m\u001b[0;34m\u001b[0m\u001b[0;34m\u001b[0m\u001b[0m\n",
            "\u001b[0;32m/usr/local/lib/python3.10/dist-packages/ipykernel/kernelbase.py\u001b[0m in \u001b[0;36mraw_input\u001b[0;34m(self, prompt)\u001b[0m\n\u001b[1;32m    849\u001b[0m                 \u001b[0;34m\"raw_input was called, but this frontend does not support input requests.\"\u001b[0m\u001b[0;34m\u001b[0m\u001b[0;34m\u001b[0m\u001b[0m\n\u001b[1;32m    850\u001b[0m             )\n\u001b[0;32m--> 851\u001b[0;31m         return self._input_request(str(prompt),\n\u001b[0m\u001b[1;32m    852\u001b[0m             \u001b[0mself\u001b[0m\u001b[0;34m.\u001b[0m\u001b[0m_parent_ident\u001b[0m\u001b[0;34m,\u001b[0m\u001b[0;34m\u001b[0m\u001b[0;34m\u001b[0m\u001b[0m\n\u001b[1;32m    853\u001b[0m             \u001b[0mself\u001b[0m\u001b[0;34m.\u001b[0m\u001b[0m_parent_header\u001b[0m\u001b[0;34m,\u001b[0m\u001b[0;34m\u001b[0m\u001b[0;34m\u001b[0m\u001b[0m\n",
            "\u001b[0;32m/usr/local/lib/python3.10/dist-packages/ipykernel/kernelbase.py\u001b[0m in \u001b[0;36m_input_request\u001b[0;34m(self, prompt, ident, parent, password)\u001b[0m\n\u001b[1;32m    893\u001b[0m             \u001b[0;32mexcept\u001b[0m \u001b[0mKeyboardInterrupt\u001b[0m\u001b[0;34m:\u001b[0m\u001b[0;34m\u001b[0m\u001b[0;34m\u001b[0m\u001b[0m\n\u001b[1;32m    894\u001b[0m                 \u001b[0;31m# re-raise KeyboardInterrupt, to truncate traceback\u001b[0m\u001b[0;34m\u001b[0m\u001b[0;34m\u001b[0m\u001b[0m\n\u001b[0;32m--> 895\u001b[0;31m                 \u001b[0;32mraise\u001b[0m \u001b[0mKeyboardInterrupt\u001b[0m\u001b[0;34m(\u001b[0m\u001b[0;34m\"Interrupted by user\"\u001b[0m\u001b[0;34m)\u001b[0m \u001b[0;32mfrom\u001b[0m \u001b[0;32mNone\u001b[0m\u001b[0;34m\u001b[0m\u001b[0;34m\u001b[0m\u001b[0m\n\u001b[0m\u001b[1;32m    896\u001b[0m             \u001b[0;32mexcept\u001b[0m \u001b[0mException\u001b[0m \u001b[0;32mas\u001b[0m \u001b[0me\u001b[0m\u001b[0;34m:\u001b[0m\u001b[0;34m\u001b[0m\u001b[0;34m\u001b[0m\u001b[0m\n\u001b[1;32m    897\u001b[0m                 \u001b[0mself\u001b[0m\u001b[0;34m.\u001b[0m\u001b[0mlog\u001b[0m\u001b[0;34m.\u001b[0m\u001b[0mwarning\u001b[0m\u001b[0;34m(\u001b[0m\u001b[0;34m\"Invalid Message:\"\u001b[0m\u001b[0;34m,\u001b[0m \u001b[0mexc_info\u001b[0m\u001b[0;34m=\u001b[0m\u001b[0;32mTrue\u001b[0m\u001b[0;34m)\u001b[0m\u001b[0;34m\u001b[0m\u001b[0;34m\u001b[0m\u001b[0m\n",
            "\u001b[0;31mKeyboardInterrupt\u001b[0m: Interrupted by user"
          ]
        }
      ]
    },
    {
      "cell_type": "code",
      "source": [
        "def cake_baker(p,f,s):\n",
        "  print(\"no of pieces= \",p)\n",
        "  print(\"Type of flvour= \",f)\n",
        "  print(\"weight of cake=\",s)\n",
        "cake_baker()"
      ],
      "metadata": {
        "id": "P5l0tIsm6qSq"
      },
      "execution_count": null,
      "outputs": []
    },
    {
      "cell_type": "code",
      "source": [
        "n=int(input(\"NUMBER\"))\n",
        "for i in range(1,11):\n",
        "  x=n*i\n",
        "  print(n,'*',i,'=',x)"
      ],
      "metadata": {
        "colab": {
          "base_uri": "https://localhost:8080/"
        },
        "id": "nn8HBeAS7bZT",
        "outputId": "bd7b4e78-f673-413e-a9e9-640a20639303"
      },
      "execution_count": null,
      "outputs": [
        {
          "output_type": "stream",
          "name": "stdout",
          "text": [
            "NUMBER5\n",
            "5 * 1 = 5\n",
            "5 * 2 = 10\n",
            "5 * 3 = 15\n",
            "5 * 4 = 20\n",
            "5 * 5 = 25\n",
            "5 * 6 = 30\n",
            "5 * 7 = 35\n",
            "5 * 8 = 40\n",
            "5 * 9 = 45\n",
            "5 * 10 = 50\n"
          ]
        }
      ]
    },
    {
      "cell_type": "code",
      "source": [
        "def print_table(num):\n",
        "    for i in range(1,11):\n",
        "        print(num,'*', i, ' = ',num*i)\n",
        "n = int(input(\"ENTER N:\"))\n",
        "print_table(n)"
      ],
      "metadata": {
        "colab": {
          "base_uri": "https://localhost:8080/"
        },
        "id": "5xOli7Rf8XXP",
        "outputId": "1e421293-6179-4be3-ced5-886a1c17b24c"
      },
      "execution_count": 69,
      "outputs": [
        {
          "output_type": "stream",
          "name": "stdout",
          "text": [
            "ENTER N:6\n",
            "6 * 1  =  6\n",
            "6 * 2  =  12\n",
            "6 * 3  =  18\n",
            "6 * 4  =  24\n",
            "6 * 5  =  30\n",
            "6 * 6  =  36\n",
            "6 * 7  =  42\n",
            "6 * 8  =  48\n",
            "6 * 9  =  54\n",
            "6 * 10  =  60\n"
          ]
        }
      ]
    },
    {
      "cell_type": "code",
      "source": [
        "def table(n):\n",
        " for i in range(1,11):\n",
        "  x=n*i\n",
        "  print(n,'*',i,'=',x)\n",
        "n=int(input(\"NUMBER\"))\n",
        "table(n)"
      ],
      "metadata": {
        "colab": {
          "base_uri": "https://localhost:8080/"
        },
        "id": "UD5dXiBT7dAT",
        "outputId": "8202946b-89a5-409d-d6ea-7db617750d58"
      },
      "execution_count": null,
      "outputs": [
        {
          "output_type": "stream",
          "name": "stdout",
          "text": [
            "NUMBER23\n",
            "23 * 1 = 23\n",
            "23 * 2 = 46\n",
            "23 * 3 = 69\n",
            "23 * 4 = 92\n",
            "23 * 5 = 115\n",
            "23 * 6 = 138\n",
            "23 * 7 = 161\n",
            "23 * 8 = 184\n",
            "23 * 9 = 207\n",
            "23 * 10 = 230\n"
          ]
        }
      ]
    },
    {
      "cell_type": "code",
      "source": [
        "#1)Write a program to print first 10 natural numbers\n",
        "\n",
        "def nat():\n",
        "  for i in range(1,11,1):\n",
        "    print(i)\n",
        "nat()\n"
      ],
      "metadata": {
        "colab": {
          "base_uri": "https://localhost:8080/"
        },
        "id": "DYmRtn6S9T-E",
        "outputId": "3ed5b3fd-d37a-4262-e81e-66564651c95d"
      },
      "execution_count": null,
      "outputs": [
        {
          "output_type": "stream",
          "name": "stdout",
          "text": [
            "1\n",
            "2\n",
            "3\n",
            "4\n",
            "5\n",
            "6\n",
            "7\n",
            "8\n",
            "9\n",
            "10\n"
          ]
        }
      ]
    },
    {
      "cell_type": "code",
      "source": [
        "#2)Write a program to print  Fibonacci series\n",
        "def fibo():\n",
        "  a=0\n",
        "  b=1\n",
        "  for y in range(5):\n",
        "    print(a)\n",
        "    n=a+b\n",
        "    a=b\n",
        "    b=n\n",
        "\n",
        "fibo()\n"
      ],
      "metadata": {
        "colab": {
          "base_uri": "https://localhost:8080/"
        },
        "id": "B4q_J5NM9-xm",
        "outputId": "79edda40-0bc9-4789-c101-0d94c0e3af5c"
      },
      "execution_count": 77,
      "outputs": [
        {
          "output_type": "stream",
          "name": "stdout",
          "text": [
            "0\n",
            "1\n",
            "1\n",
            "2\n",
            "3\n"
          ]
        }
      ]
    },
    {
      "cell_type": "code",
      "source": [
        "#3)Write a program to find a factorial of first 10 odd number\n",
        "def facto():\n",
        "\n",
        "  n=1\n",
        "  for x in range(1,20):\n",
        "    n=x*n\n",
        "    if (x%2!=0):\n",
        "       print(n)\n",
        "facto()\n"
      ],
      "metadata": {
        "id": "WaeTrFtIAjWT",
        "colab": {
          "base_uri": "https://localhost:8080/"
        },
        "outputId": "4c338e10-8ba1-4061-b380-82e18992847d"
      },
      "execution_count": 41,
      "outputs": [
        {
          "output_type": "stream",
          "name": "stdout",
          "text": [
            "1\n",
            "6\n",
            "120\n",
            "5040\n",
            "362880\n",
            "39916800\n",
            "6227020800\n",
            "1307674368000\n",
            "355687428096000\n",
            "121645100408832000\n"
          ]
        }
      ]
    },
    {
      "cell_type": "code",
      "source": [
        "#4)Write a program to print first 10 odd numbers\n",
        "def nat():\n",
        "  for i in range(1,21,2):\n",
        "    print(i)\n",
        "nat()"
      ],
      "metadata": {
        "id": "k1SY9V_Y9tBs",
        "colab": {
          "base_uri": "https://localhost:8080/"
        },
        "outputId": "2615a8a6-de04-4412-bbf5-7817fb747a4b"
      },
      "execution_count": 43,
      "outputs": [
        {
          "output_type": "stream",
          "name": "stdout",
          "text": [
            "1\n",
            "3\n",
            "5\n",
            "7\n",
            "9\n",
            "11\n",
            "13\n",
            "15\n",
            "17\n",
            "19\n"
          ]
        }
      ]
    },
    {
      "cell_type": "code",
      "source": [
        "#5)Write a program to print  first 10 even numbers in reverse order\n",
        "import math\n",
        "lis=[]\n",
        "def nat():\n",
        "  for i in range(0,20,2):\n",
        "    lis.append(i)\n",
        "  print(lis)\n",
        "  list.reverse(lis)\n",
        "  print(lis)\n",
        "nat()\n"
      ],
      "metadata": {
        "colab": {
          "base_uri": "https://localhost:8080/"
        },
        "id": "VnuvOm5tCDRj",
        "outputId": "aaeb3084-c06e-4ad1-eca4-5bdc22ecfd6f"
      },
      "execution_count": 53,
      "outputs": [
        {
          "output_type": "stream",
          "name": "stdout",
          "text": [
            "[0, 2, 4, 6, 8, 10, 12, 14, 16, 18]\n",
            "[18, 16, 14, 12, 10, 8, 6, 4, 2, 0]\n"
          ]
        }
      ]
    },
    {
      "cell_type": "code",
      "source": [
        "#6)Write a program to arrange numbers in half ascending and half descending order\n",
        "\n"
      ],
      "metadata": {
        "id": "6bTJD7GpGWx1"
      },
      "execution_count": null,
      "outputs": []
    },
    {
      "cell_type": "code",
      "source": [
        "#7)Write a program to separate odd numbers and even numbers from a given array\n",
        "import numpy as np\n",
        "lis1=[]\n",
        "lis2=[]\n",
        "a=np.array([1,5,6,3,1,2,4,6])\n",
        "def oddeven():\n",
        "  for i in a:\n",
        "\n",
        "    if(i%2==0):\n",
        "\n",
        "      lis1.append(i)\n",
        "    else:\n",
        "      lis2.append(i)\n",
        "  print(lis1)\n",
        "  print(lis2)\n",
        "oddeven()\n",
        "\n",
        "\n"
      ],
      "metadata": {
        "colab": {
          "base_uri": "https://localhost:8080/"
        },
        "id": "WLBGfCkMDbCp",
        "outputId": "e0d0276b-ea8a-454a-ce0a-5eb0b4376a30"
      },
      "execution_count": 59,
      "outputs": [
        {
          "output_type": "stream",
          "name": "stdout",
          "text": [
            "[6, 2, 4, 6]\n",
            "[1, 5, 3, 1]\n"
          ]
        }
      ]
    },
    {
      "cell_type": "code",
      "source": [
        "#8) Accept 10 numbers from user and display their averages\n",
        "def ave():\n",
        "  s=0\n",
        "  for i in range(n):\n",
        "\n",
        "    y=int(input(\"enter number\"))\n",
        "    s=s+y\n",
        "  print(s)\n",
        "  a=s//n\n",
        "\n",
        "  print(a)\n",
        "\n",
        "\n",
        "n=int(input(\"ENTER N\"))\n",
        "lis1=[]\n",
        "ave()"
      ],
      "metadata": {
        "colab": {
          "base_uri": "https://localhost:8080/"
        },
        "id": "1ql1Wg4aEXEy",
        "outputId": "228e8240-d70d-4648-b21f-e8799de16485"
      },
      "execution_count": 74,
      "outputs": [
        {
          "output_type": "stream",
          "name": "stdout",
          "text": [
            "ENTER N3\n",
            "enter number1\n",
            "enter number2\n",
            "enter number3\n",
            "6\n",
            "2\n"
          ]
        }
      ]
    },
    {
      "cell_type": "code",
      "source": [
        "#9)Write a program to display all the numbers which are divisible by 11 bu not by 2 between 100 and 500\n",
        "def div():\n",
        "  for x in range(100,500):\n",
        "\n",
        "    if(x%11==0 and x%2!=0):\n",
        "       print(x)\n",
        "div()"
      ],
      "metadata": {
        "colab": {
          "base_uri": "https://localhost:8080/"
        },
        "id": "NWQxv88UFyxO",
        "outputId": "eb30e53d-3ee2-4b48-d554-3bf7f272965d"
      },
      "execution_count": 68,
      "outputs": [
        {
          "output_type": "stream",
          "name": "stdout",
          "text": [
            "121\n",
            "143\n",
            "165\n",
            "187\n",
            "209\n",
            "231\n",
            "253\n",
            "275\n",
            "297\n",
            "319\n",
            "341\n",
            "363\n",
            "385\n",
            "407\n",
            "429\n",
            "451\n",
            "473\n",
            "495\n"
          ]
        }
      ]
    },
    {
      "cell_type": "code",
      "source": [
        "#10)Write a program that keep on accepting numbers from the user until user enters 00. Display factorial of entered numbers\n",
        "arr=[]\n",
        "def null():\n",
        "  while 1:\n",
        "    x=int(input(\"ENTER : \"))\n",
        "    if x==0:\n",
        "      break\n",
        "    else:\n",
        "        f=1\n",
        "        for i in range (1,x+1):\n",
        "          f=f*i\n",
        "        arr.append(f)\n",
        "  print(arr)\n",
        "null()\n"
      ],
      "metadata": {
        "colab": {
          "base_uri": "https://localhost:8080/"
        },
        "id": "5LO1WS8TGLIW",
        "outputId": "a34eb5a0-968a-4cd5-a593-ba18a37b2a1d"
      },
      "execution_count": 72,
      "outputs": [
        {
          "output_type": "stream",
          "name": "stdout",
          "text": [
            "ENTER : 2\n",
            "ENTER : 3\n",
            "ENTER : 5\n",
            "ENTER : 0\n",
            "[2, 6, 120]\n"
          ]
        }
      ]
    }
  ]
}